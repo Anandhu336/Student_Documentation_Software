{
 "cells": [
  {
   "cell_type": "code",
   "execution_count": 5,
   "id": "c5cfb530-4269-47de-86c9-084b9fc9b569",
   "metadata": {},
   "outputs": [],
   "source": [
    "def get_student_id():\n",
    "    while True:\n",
    "        try:\n",
    "            student_id = int(input(\"Enter the student ID: \"))\n",
    "            return student_id\n",
    "        except ValueError:\n",
    "            print(\"Error: Student ID must be an integer.\")"
   ]
  },
  {
   "cell_type": "code",
   "execution_count": 6,
   "id": "1aac1225-5cf2-4dab-ab2c-0e5228960e89",
   "metadata": {},
   "outputs": [
    {
     "name": "stdin",
     "output_type": "stream",
     "text": [
      "Enter the student ID:  HGFHJC\n"
     ]
    },
    {
     "name": "stdout",
     "output_type": "stream",
     "text": [
      "Error: Student ID must be an integer.\n"
     ]
    },
    {
     "name": "stdin",
     "output_type": "stream",
     "text": [
      "Enter the student ID:  7657987\n"
     ]
    },
    {
     "name": "stdout",
     "output_type": "stream",
     "text": [
      "Student ID: 7657987\n"
     ]
    }
   ],
   "source": [
    "student_id = get_student_id()\n",
    "print(\"Student ID:\", student_id)"
   ]
  },
  {
   "cell_type": "code",
   "execution_count": 2,
   "id": "3c4a39a9-afb4-4a8f-b5ef-5d64be96cafc",
   "metadata": {},
   "outputs": [],
   "source": [
    "def task_a2(data, race):\n",
    "    if data is None:\n",
    "        return\n",
    "    \n",
    "    found = False\n",
    "    \n",
    "        for row in data:\n",
    "            if row['Race'] == race:\n",
    "                print(f\"Student ID: {row['ID']}\")\n",
    "                print(f\"Race: {row['Race']}\")\n",
    "        \n",
    "        print(f\"Race: {row['Race']}\")\n",
    "            print(f\"Parental Involvement: {row['Parental Involvement']}\")\n",
    "            print(f\"Absences: {row['Absences']}\")\n",
    "            found = True\n",
    "\n",
    "    \n",
    "    \n",
    "    if not found:\n",
    "        print(f\"Error: Race {race} not found.\")\n"
   ]
  },
  {
   "cell_type": "code",
   "execution_count": null,
   "id": "13eb385a-2d51-4239-961a-d6863784ba69",
   "metadata": {},
   "outputs": [],
   "source": []
  }
 ],
 "metadata": {
  "kernelspec": {
   "display_name": "Python 3 (ipykernel)",
   "language": "python",
   "name": "python3"
  },
  "language_info": {
   "codemirror_mode": {
    "name": "ipython",
    "version": 3
   },
   "file_extension": ".py",
   "mimetype": "text/x-python",
   "name": "python",
   "nbconvert_exporter": "python",
   "pygments_lexer": "ipython3",
   "version": "3.12.4"
  }
 },
 "nbformat": 4,
 "nbformat_minor": 5
}

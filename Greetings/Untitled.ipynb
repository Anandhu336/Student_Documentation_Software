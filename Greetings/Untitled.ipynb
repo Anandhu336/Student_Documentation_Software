{
 "cells": [
  {
   "cell_type": "code",
   "execution_count": 1,
   "id": "b1adab37-f044-4f95-b16b-01757d8b162f",
   "metadata": {},
   "outputs": [
    {
     "name": "stdout",
     "output_type": "stream",
     "text": [
      "\n",
      "..........Welcome to the Student Documentation Software!.......\n",
      "\n",
      "\n",
      "\n"
     ]
    }
   ],
   "source": [
    "\n",
    "from Greetings import generate_student_documentation_greeting\n"
   ]
  },
  {
   "cell_type": "code",
   "execution_count": 2,
   "id": "063f4e98-7507-495d-9180-dcfdc58fd3ad",
   "metadata": {},
   "outputs": [
    {
     "name": "stdout",
     "output_type": "stream",
     "text": [
      "\n",
      "..........Welcome to the Student Documentation Software!.......\n",
      "\n",
      "\n",
      "\n"
     ]
    }
   ],
   "source": [
    "%run Greetings.ipynb\n"
   ]
  },
  {
   "cell_type": "code",
   "execution_count": null,
   "id": "642b4ec6-dd31-4f35-b731-963386b891bc",
   "metadata": {},
   "outputs": [],
   "source": []
  }
 ],
 "metadata": {
  "kernelspec": {
   "display_name": "Python 3 (ipykernel)",
   "language": "python",
   "name": "python3"
  },
  "language_info": {
   "codemirror_mode": {
    "name": "ipython",
    "version": 3
   },
   "file_extension": ".py",
   "mimetype": "text/x-python",
   "name": "python",
   "nbconvert_exporter": "python",
   "pygments_lexer": "ipython3",
   "version": "3.12.4"
  }
 },
 "nbformat": 4,
 "nbformat_minor": 5
}

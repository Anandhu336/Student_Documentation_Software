{
 "cells": [
  {
   "cell_type": "code",
   "execution_count": null,
   "id": "442edacd-5d80-489c-8a17-d8645602a91e",
   "metadata": {},
   "outputs": [
    {
     "name": "stdout",
     "output_type": "stream",
     "text": [
      "Welcome to the student data analysis tool!\n",
      "Please choose an option:\n",
      "1. Average absences by parental involvement level\n",
      "2. Average math score by race for students with attendance rate over 80%\n",
      "3. Custom data analysis\n",
      "4. Top 3 levels of mother’s education for a specific race of students based on parental involvement levels\n",
      "5. Exit\n"
     ]
    },
    {
     "name": "stdin",
     "output_type": "stream",
     "text": [
      "Enter your choice (1-5):  4\n"
     ]
    },
    {
     "name": "stdout",
     "output_type": "stream",
     "text": [
      "Unique races in the dataset:\n",
      "Asian\n",
      "Other\n",
      "White\n",
      "Hispanic\n",
      "African American\n"
     ]
    },
    {
     "name": "stdin",
     "output_type": "stream",
     "text": [
      "Enter the specific race to get the top 3 levels of mother's education:  aasian\n"
     ]
    },
    {
     "name": "stdout",
     "output_type": "stream",
     "text": [
      "Race 'aasian' is not found in the dataset.\n",
      "Would you like to:\n",
      "1. Change input and get a new output\n",
      "2. Go back to the main menu\n"
     ]
    },
    {
     "name": "stdin",
     "output_type": "stream",
     "text": [
      "Enter your choice (1 or 2):  1\n"
     ]
    },
    {
     "name": "stdout",
     "output_type": "stream",
     "text": [
      "Unique races in the dataset:\n",
      "Asian\n",
      "Other\n",
      "White\n",
      "Hispanic\n",
      "African American\n"
     ]
    },
    {
     "name": "stdin",
     "output_type": "stream",
     "text": [
      "Enter the specific race to get the top 3 levels of mother's education:  asian\n"
     ]
    },
    {
     "name": "stdout",
     "output_type": "stream",
     "text": [
      "\n",
      "Unique parental involvement levels in the dataset:\n",
      "Low\n",
      "High\n",
      "Medium\n"
     ]
    },
    {
     "name": "stdin",
     "output_type": "stream",
     "text": [
      "Enter the specific parental involvement level:  low\n"
     ]
    },
    {
     "name": "stdout",
     "output_type": "stream",
     "text": [
      "\n",
      "Top 3 levels of mother's education for race 'Asian' and parental involvement 'Low':\n",
      "Mother_education_level\n",
      "primary (4th grade)    50\n",
      "higher education       46\n",
      "secondary              44\n",
      "Name: count, dtype: int64\n",
      "Would you like to:\n",
      "1. Change input and get a new output\n",
      "2. Go back to the main menu\n"
     ]
    },
    {
     "name": "stdin",
     "output_type": "stream",
     "text": [
      "Enter your choice (1 or 2):  2\n"
     ]
    },
    {
     "name": "stdout",
     "output_type": "stream",
     "text": [
      "Welcome to the student data analysis tool!\n",
      "Please choose an option:\n",
      "1. Average absences by parental involvement level\n",
      "2. Average math score by race for students with attendance rate over 80%\n",
      "3. Custom data analysis\n",
      "4. Top 3 levels of mother’s education for a specific race of students based on parental involvement levels\n",
      "5. Exit\n"
     ]
    },
    {
     "name": "stdin",
     "output_type": "stream",
     "text": [
      "Enter your choice (1-5):  3\n"
     ]
    },
    {
     "name": "stdout",
     "output_type": "stream",
     "text": [
      "Average writing score of students with good health: 50.86\n",
      "Would you like to:\n",
      "1. Change input and get a new output\n",
      "2. Go back to the main menu\n"
     ]
    }
   ],
   "source": [
    "import pandas as pd\n",
    "\n",
    "# Read the CSV file\n",
    "df_data = pd.read_csv(\"students_data.csv\", header=0, encoding='utf-8')\n",
    "df_data['Race'] = df_data['Race'].str.lower()\n",
    "df_data['Parental_involvement'] = df_data['Parental_involvement'].str.lower()\n",
    "df_data['Mother_education_level'] = df_data['Mother_education_level '].str.lower()\n",
    "\n",
    "\n",
    "\n",
    "def b2_avg_absences_by_parental_involvement():\n",
    "    valid_levels = ['low', 'medium', 'high']\n",
    "    while True:\n",
    "        parental_involvement_level = input(\"Enter the parental involvement level (low, medium, or high): \").lower()\n",
    "        if parental_involvement_level not in valid_levels:\n",
    "            print(\"Not valid. Please check again and re-enter the parental involvement level.\")\n",
    "            continue\n",
    "        students_with_parental_involvement = df_data[df_data['Parental_involvement'] == parental_involvement_level]\n",
    "        avg_absences = students_with_parental_involvement['Absences'].mean()\n",
    "        print(f\"The average number of absences for students with {parental_involvement_level.upper()} parental involvement is: {avg_absences:.2f}\")\n",
    "        \n",
    "        if not change_or_main_menu():\n",
    "            break\n",
    "\n",
    "def b3_avg_math_score_by_race_for_attendance_over_80():\n",
    "    race_dict = {\n",
    "        '1': 'Asian',\n",
    "        '2': 'White',\n",
    "        '3': 'Hispanic',\n",
    "        '4': 'African American',\n",
    "        '5': 'Other'\n",
    "    }\n",
    "    while True:\n",
    "        print(\"Choose the race:\")\n",
    "        print(\"1. Asian\")\n",
    "        print(\"2. White\")\n",
    "        print(\"3. Hispanic\")\n",
    "        print(\"4. African American\")\n",
    "        print(\"5. Other\")\n",
    "        \n",
    "        choice = input(\"Enter your choice (1, 2, 3, 4, or 5): \")\n",
    "        \n",
    "        if choice in race_dict:\n",
    "            race = race_dict[choice]\n",
    "            high_attendance = df_data[df_data['Attendance_rate'] > 80]\n",
    "            race_data = high_attendance[high_attendance['Race'].str.lower() == race.lower()]\n",
    "            avg_math_score = race_data['Math_score'].mean()\n",
    "            if pd.isna(avg_math_score):\n",
    "                print(f\"No {race} students with attendance rate above 80% were found.\")\n",
    "            else:\n",
    "                print(f\"The average math score for {race} students with attendance rate above 80% is: {avg_math_score:.2f}\")\n",
    "        else:\n",
    "            print(\"Invalid choice. Please enter 1, 2, 3, 4, or 5.\")\n",
    "        \n",
    "        if not change_or_main_menu():\n",
    "            break\n",
    "\n",
    "def b4_custom_analysis():\n",
    "    while True:\n",
    "        average_writing_scores_good_health = df_data[df_data['Health'] == 'good']['Writing_score'].mean()\n",
    "        print(f'Average writing score of students with good health: {average_writing_scores_good_health:.2f}')\n",
    "        \n",
    "        if not change_or_main_menu():\n",
    "            break\n",
    "\n",
    "def b5_top_mothers_education_by_race_and_parental_involvement():\n",
    "    def get_top_mother_education_levels(race, parental_involvement):\n",
    "        # Filter the DataFrame based on the specified race and parental involvement level\n",
    "        filtered_df_data = df_data[(df_data['Race'] == race) & (df_data['Parental_involvement'] == parental_involvement)]\n",
    "        \n",
    "        # Get the counts of each mother's education level\n",
    "        education_counts = filtered_df_data['Mother_education_level'].value_counts()\n",
    "        \n",
    "        # Get the top 3 education levels\n",
    "        top_3_education_levels = education_counts.head(3)\n",
    "        \n",
    "        return top_3_education_levels\n",
    "\n",
    "    unique_races = df_data['Race'].unique()\n",
    "\n",
    "    while True:\n",
    "        print(\"Unique races in the dataset:\")\n",
    "        for race in unique_races:\n",
    "            print(race.title())\n",
    "\n",
    "        user_race = input(\"Enter the specific race to get the top 3 levels of mother's education: \").strip().lower()\n",
    "\n",
    "        if user_race in unique_races:\n",
    "            unique_parental_involvement = df_data['Parental_involvement'].unique()\n",
    "\n",
    "            print(\"\\nUnique parental involvement levels in the dataset:\")\n",
    "            for involvement in unique_parental_involvement:\n",
    "                print(involvement.title())\n",
    "            \n",
    "            user_parental_involvement = input(\"Enter the specific parental involvement level: \").strip().lower()\n",
    "\n",
    "            if user_parental_involvement in unique_parental_involvement:\n",
    "                top_3_levels = get_top_mother_education_levels(user_race, user_parental_involvement)\n",
    "                print(f\"\\nTop 3 levels of mother's education for race '{user_race.title()}' and parental involvement '{user_parental_involvement.title()}':\")\n",
    "                print(top_3_levels)\n",
    "            else:\n",
    "                print(f\"Parental involvement level '{user_parental_involvement}' is not found in the dataset.\")\n",
    "        else:\n",
    "            print(f\"Race '{user_race}' is not found in the dataset.\")\n",
    "\n",
    "        if not change_or_main_menu():\n",
    "            break\n",
    "\n",
    "def display_menu():\n",
    "    print(\"Welcome to the student data analysis tool!\")\n",
    "    print(\"Please choose an option:\")\n",
    "    print(\"1. Average absences by parental involvement level\")\n",
    "    print(\"2. Average math score by race for students with attendance rate over 80%\")\n",
    "    print(\"3. Custom data analysis\")\n",
    "    print(\"4. Top 3 levels of mother’s education for a specific race of students based on parental involvement levels\")\n",
    "    print(\"5. Exit\")\n",
    "\n",
    "def change_or_main_menu():\n",
    "    while True:\n",
    "        print(\"Would you like to:\")\n",
    "        print(\"1. Change input and get a new output\")\n",
    "        print(\"2. Go back to the main menu\")\n",
    "        choice = input(\"Enter your choice (1 or 2): \")\n",
    "        if choice == '1':\n",
    "            return True\n",
    "        elif choice == '2':\n",
    "            return False\n",
    "        else:\n",
    "            print(\"Invalid choice. Please try again.\")\n",
    "\n",
    "def handle_choice(choice):\n",
    "    if choice == '1':\n",
    "        b2_avg_absences_by_parental_involvement()\n",
    "    elif choice == '2':\n",
    "        b3_avg_math_score_by_race_for_attendance_over_80()\n",
    "    elif choice == '3':\n",
    "        b4_custom_analysis()\n",
    "    elif choice == '4':\n",
    "        b5_top_mothers_education_by_race_and_parental_involvement()\n",
    "    elif choice == '5':\n",
    "        print(\"Exiting...\")\n",
    "        return False\n",
    "    else:\n",
    "        print(\"Invalid choice. Please try again.\")\n",
    "    return True\n",
    "\n",
    "def main():\n",
    "    while True:\n",
    "        display_menu()\n",
    "        choice = input(\"Enter your choice (1-5): \")\n",
    "        if not handle_choice(choice):\n",
    "            break\n",
    "\n",
    "if __name__ == \"__main__\":\n",
    "    main()"
   ]
  }
 ],
 "metadata": {
  "kernelspec": {
   "display_name": "Python 3 (ipykernel)",
   "language": "python",
   "name": "python3"
  },
  "language_info": {
   "codemirror_mode": {
    "name": "ipython",
    "version": 3
   },
   "file_extension": ".py",
   "mimetype": "text/x-python",
   "name": "python",
   "nbconvert_exporter": "python",
   "pygments_lexer": "ipython3",
   "version": "3.12.4"
  }
 },
 "nbformat": 4,
 "nbformat_minor": 5
}

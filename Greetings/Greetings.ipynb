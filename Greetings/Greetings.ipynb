{
 "cells": [
  {
   "cell_type": "code",
   "execution_count": null,
   "id": "34f9850f-f631-4bc0-80b1-2273cbf044b6",
   "metadata": {},
   "outputs": [],
   "source": [
    "def generate_student_documentation_greeting():\n",
    "    \"\"\"\n",
    "    Generates a greeting for the student documentation software.\n",
    "    \"\"\"\n",
    "    greeting = \"\"\"\n",
    "..........Welcome to the Student Documentation Software!.......\n",
    "\n",
    "\n",
    "\"\"\"\n",
    "    return greeting"
   ]
  },
  {
   "cell_type": "code",
   "execution_count": 5,
   "id": "7116960c-b925-4e89-81a0-e04eeaf31916",
   "metadata": {},
   "outputs": [
    {
     "name": "stdout",
     "output_type": "stream",
     "text": [
      "\n",
      "..........Welcome to the Student Documentation Software!.......\n",
      "\n",
      "\n",
      "\n"
     ]
    }
   ],
   "source": [
    "student_greeting = generate_student_documentation_greeting()\n",
    "print(student_greeting)"
   ]
  },
  {
   "cell_type": "code",
   "execution_count": null,
   "id": "c864c65a-fab9-45ae-b171-10fc4ed68170",
   "metadata": {},
   "outputs": [],
   "source": []
  }
 ],
 "metadata": {
  "kernelspec": {
   "display_name": "Python 3 (ipykernel)",
   "language": "python",
   "name": "python3"
  },
  "language_info": {
   "codemirror_mode": {
    "name": "ipython",
    "version": 3
   },
   "file_extension": ".py",
   "mimetype": "text/x-python",
   "name": "python",
   "nbconvert_exporter": "python",
   "pygments_lexer": "ipython3",
   "version": "3.12.4"
  }
 },
 "nbformat": 4,
 "nbformat_minor": 5
}

{
 "cells": [
  {
   "cell_type": "code",
   "execution_count": 1,
   "id": "7a2acdc3-f2a0-4558-bfe7-8463e4cf127b",
   "metadata": {},
   "outputs": [
    {
     "name": "stdout",
     "output_type": "stream",
     "text": [
      "\n",
      "..........Welcome to the Student Documentation Software!.......\n",
      "\n",
      "\n",
      "\n",
      "1. Retrive Data \n",
      "2. Analyse Data\n",
      "3. Visualization\n",
      "4. Exit\n"
     ]
    },
    {
     "name": "stdin",
     "output_type": "stream",
     "text": [
      "Please select an option:  3\n"
     ]
    },
    {
     "name": "stdout",
     "output_type": "stream",
     "text": [
      "Visualization Menu:\n",
      "1. Proportion of students by race\n",
      "2. Average writing scores by race\n",
      "3. Relationship between reading and writing scores\n",
      "4. Custom visualization related to student performance\n",
      "5. Exit visualization menu\n"
     ]
    },
    {
     "name": "stdin",
     "output_type": "stream",
     "text": [
      "Enter your choice (1-5):  1\n"
     ]
    },
    {
     "ename": "TypeError",
     "evalue": "list indices must be integers or slices, not str",
     "output_type": "error",
     "traceback": [
      "\u001b[0;31m---------------------------------------------------------------------------\u001b[0m",
      "\u001b[0;31mTypeError\u001b[0m                                 Traceback (most recent call last)",
      "Cell \u001b[0;32mIn[1], line 66\u001b[0m\n\u001b[1;32m     63\u001b[0m \u001b[38;5;66;03m# Check if this script is being run as the main program.\u001b[39;00m\n\u001b[1;32m     64\u001b[0m \u001b[38;5;28;01mif\u001b[39;00m \u001b[38;5;18m__name__\u001b[39m \u001b[38;5;241m==\u001b[39m \u001b[38;5;124m\"\u001b[39m\u001b[38;5;124m__main__\u001b[39m\u001b[38;5;124m\"\u001b[39m:\n\u001b[1;32m     65\u001b[0m     \u001b[38;5;66;03m#call the main fuction to start the program \u001b[39;00m\n\u001b[0;32m---> 66\u001b[0m     main()\n",
      "Cell \u001b[0;32mIn[1], line 51\u001b[0m, in \u001b[0;36mmain\u001b[0;34m()\u001b[0m\n\u001b[1;32m     48\u001b[0m \u001b[38;5;66;03m# Check if the user selected option '3' to visualize data.    \u001b[39;00m\n\u001b[1;32m     49\u001b[0m \u001b[38;5;28;01melif\u001b[39;00m choice \u001b[38;5;241m==\u001b[39m \u001b[38;5;124m'\u001b[39m\u001b[38;5;124m3\u001b[39m\u001b[38;5;124m'\u001b[39m:\n\u001b[1;32m     50\u001b[0m     \u001b[38;5;66;03m# Call the main function from the Visualization module to visualize the data.\u001b[39;00m\n\u001b[0;32m---> 51\u001b[0m     Visualization\u001b[38;5;241m.\u001b[39mmain()\n\u001b[1;32m     52\u001b[0m \u001b[38;5;66;03m# Check if the user selected option '4' to exit the program.\u001b[39;00m\n\u001b[1;32m     53\u001b[0m \u001b[38;5;28;01melif\u001b[39;00m choice \u001b[38;5;241m==\u001b[39m \u001b[38;5;124m'\u001b[39m\u001b[38;5;124m4\u001b[39m\u001b[38;5;124m'\u001b[39m:\n\u001b[1;32m     54\u001b[0m      \u001b[38;5;66;03m# Print a message stating that the application is exiting.\u001b[39;00m\n",
      "File \u001b[0;32m~/Library/CloudStorage/OneDrive-SolentUniversity/COM728-Assessment/SOFTWARE/Visualization.py:152\u001b[0m, in \u001b[0;36mmain\u001b[0;34m()\u001b[0m\n\u001b[1;32m    150\u001b[0m \u001b[38;5;66;03m# Operates the user's choice by calling the appropriate function\u001b[39;00m\n\u001b[1;32m    151\u001b[0m \u001b[38;5;28;01mif\u001b[39;00m choice \u001b[38;5;241m==\u001b[39m \u001b[38;5;124m'\u001b[39m\u001b[38;5;124m1\u001b[39m\u001b[38;5;124m'\u001b[39m:\n\u001b[0;32m--> 152\u001b[0m     c1_students_proportion_by_race()\n\u001b[1;32m    153\u001b[0m \u001b[38;5;28;01melif\u001b[39;00m choice \u001b[38;5;241m==\u001b[39m \u001b[38;5;124m'\u001b[39m\u001b[38;5;124m2\u001b[39m\u001b[38;5;124m'\u001b[39m:\n\u001b[1;32m    154\u001b[0m     c2_avg_writing_scores_by_race()\n",
      "File \u001b[0;32m~/Library/CloudStorage/OneDrive-SolentUniversity/COM728-Assessment/SOFTWARE/Visualization.py:34\u001b[0m, in \u001b[0;36mc1_students_proportion_by_race\u001b[0;34m()\u001b[0m\n\u001b[1;32m     31\u001b[0m \u001b[38;5;66;03m# Iterate over each student record\u001b[39;00m\n\u001b[1;32m     32\u001b[0m \u001b[38;5;28;01mfor\u001b[39;00m row \u001b[38;5;129;01min\u001b[39;00m data:\n\u001b[1;32m     33\u001b[0m     \u001b[38;5;66;03m# Increment the count for the student's race\u001b[39;00m\n\u001b[0;32m---> 34\u001b[0m     race_counts[row[\u001b[38;5;124m'\u001b[39m\u001b[38;5;124mRace\u001b[39m\u001b[38;5;124m'\u001b[39m]] \u001b[38;5;241m+\u001b[39m\u001b[38;5;241m=\u001b[39m \u001b[38;5;241m1\u001b[39m\n\u001b[1;32m     35\u001b[0m \u001b[38;5;66;03m# Extract race labels\u001b[39;00m\n\u001b[1;32m     36\u001b[0m labels \u001b[38;5;241m=\u001b[39m \u001b[38;5;28mlist\u001b[39m(race_counts\u001b[38;5;241m.\u001b[39mkeys())\n",
      "\u001b[0;31mTypeError\u001b[0m: list indices must be integers or slices, not str"
     ]
    }
   ],
   "source": [
    "# import the student_documentation module which contains all the functions to retrive the student data.\n",
    "\n",
    "import student_documentation\n",
    "# import the Analyse  module which contains the fuctions for analysing the data.  \n",
    "\n",
    "import Analyse\n",
    "\n",
    "#import the visualization module which is responsible for visualizing the analysed data.\n",
    "import Visualization\n",
    "\n",
    "# Define a function named 'display_menu' that will display the main menu options to the user.\n",
    "\n",
    "from Greetings import generate_student_documentation_greeting\n",
    "\n",
    "def display_menu():\n",
    "\n",
    "    # Call the function to get the greeting message\n",
    "    greeting_message = generate_student_documentation_greeting()\n",
    "    \n",
    "   \n",
    "    \n",
    "    #print the first menu option Retrive data for the user to interact. \n",
    "    print(\"1. Retrive Data \")\n",
    "    #print the second menu option Analyse data for the user to interact.\n",
    "    print(\"2. Analyse Data\")\n",
    "    #print the third menu option Visualization for the user to interact.\n",
    "    print(\"3. Visualization\")\n",
    "    #print the fourth menu option to exist from the software. \n",
    "    print(\"4. Exit\")\n",
    "    \n",
    "# Define the main function that will handle the core logic of the software program.\n",
    "\n",
    "def main():\n",
    "    #Start an infinite loop to continuously display the menu until the user decides to exit.\n",
    "    while True:\n",
    "        # Call the display_menu function to show the menu options to the user.\n",
    "        display_menu()\n",
    "        #Give the user to enter the option and store the value in choice variable. \n",
    "        choice = input(\"Please select an option: \")\n",
    "        # check if the user selected the  option '1' to retrive the data.\n",
    "        if choice == '1':\n",
    "            #call the main fuction from student_ducumentation module to retrive the data.\n",
    "            student_documentation.main()\n",
    "        # Check if the user selected the option '2' to analyze data.  \n",
    "        elif choice == '2':\n",
    "            #Call the main function from the Analyse module to analyze the data.\n",
    "            Analyse.main()\n",
    "        # Check if the user selected option '3' to visualize data.    \n",
    "        elif choice == '3':\n",
    "            # Call the main function from the Visualization module to visualize the data.\n",
    "            Visualization.main()\n",
    "        # Check if the user selected option '4' to exit the program.\n",
    "        elif choice == '4':\n",
    "             # Print a message stating that the application is exiting.\n",
    "            print(\"Exiting the Application . Thank you!\")\n",
    "            # Break the loop to exit the program.\n",
    "            break\n",
    "            \n",
    "        \n",
    "        # if  the user enters an invalid option.    \n",
    "        else:\n",
    "            print(\"Invalid choice. Please try again.\")\n",
    "# Check if this script is being run as the main program.\n",
    "if __name__ == \"__main__\":\n",
    "    #call the main fuction to start the program \n",
    "    main()\n",
    "\n",
    "\n"
   ]
  },
  {
   "cell_type": "code",
   "execution_count": null,
   "id": "40dea232-bd46-4822-8210-8f3f67f189d5",
   "metadata": {},
   "outputs": [],
   "source": []
  }
 ],
 "metadata": {
  "kernelspec": {
   "display_name": "COM728",
   "language": "python",
   "name": "com728"
  },
  "language_info": {
   "codemirror_mode": {
    "name": "ipython",
    "version": 3
   },
   "file_extension": ".py",
   "mimetype": "text/x-python",
   "name": "python",
   "nbconvert_exporter": "python",
   "pygments_lexer": "ipython3",
   "version": "3.11.9"
  }
 },
 "nbformat": 4,
 "nbformat_minor": 5
}

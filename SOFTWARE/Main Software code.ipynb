{
 "cells": [
  {
   "cell_type": "code",
   "execution_count": null,
   "id": "7a2acdc3-f2a0-4558-bfe7-8463e4cf127b",
   "metadata": {},
   "outputs": [
    {
     "name": "stdout",
     "output_type": "stream",
     "text": [
      "\n",
      "Welcome to the Student Documentation Software!\n",
      "1. Retrive Data \n",
      "2. Analyse the DATA\n",
      "3. Exit\n"
     ]
    },
    {
     "name": "stdin",
     "output_type": "stream",
     "text": [
      "Please select an option:  2\n"
     ]
    },
    {
     "name": "stdout",
     "output_type": "stream",
     "text": [
      "Welcome to the student data analysis tool!\n",
      "Please choose an option:\n",
      "1. Average absences by parental involvement level\n",
      "2. Average math score by race for students with attendance rate over 80%\n",
      "3. Custom data analysis\n",
      "4. Top 3 levels of mother’s education for a specific race of students based on parental involvement levels\n",
      "5. Exit\n"
     ]
    },
    {
     "name": "stdin",
     "output_type": "stream",
     "text": [
      "Enter your choice (1-5):  4\n"
     ]
    },
    {
     "name": "stdout",
     "output_type": "stream",
     "text": [
      "Unique races in the dataset:\n",
      "Asian\n",
      "Other\n",
      "White\n",
      "Hispanic\n",
      "African American\n"
     ]
    },
    {
     "name": "stdin",
     "output_type": "stream",
     "text": [
      "Enter the specific race to get the top 3 levels of mother's education:  asian\n"
     ]
    },
    {
     "name": "stdout",
     "output_type": "stream",
     "text": [
      "\n",
      "Unique parental involvement levels in the dataset:\n",
      "Low\n",
      "High\n",
      "Medium\n"
     ]
    },
    {
     "name": "stdin",
     "output_type": "stream",
     "text": [
      "Enter the specific parental involvement level:  low\n"
     ]
    },
    {
     "name": "stdout",
     "output_type": "stream",
     "text": [
      "\n",
      "Top 3 levels of mother's education for race 'Asian' and parental involvement 'Low':\n",
      "Mother_education_level\n",
      "primary (4th grade)    50\n",
      "higher education       46\n",
      "secondary              44\n",
      "Name: count, dtype: int64\n",
      "Would you like to:\n",
      "1. Change input and get a new output\n",
      "2. Go back to the main menu\n"
     ]
    },
    {
     "name": "stdin",
     "output_type": "stream",
     "text": [
      "Enter your choice (1 or 2):  2\n"
     ]
    },
    {
     "name": "stdout",
     "output_type": "stream",
     "text": [
      "Welcome to the student data analysis tool!\n",
      "Please choose an option:\n",
      "1. Average absences by parental involvement level\n",
      "2. Average math score by race for students with attendance rate over 80%\n",
      "3. Custom data analysis\n",
      "4. Top 3 levels of mother’s education for a specific race of students based on parental involvement levels\n",
      "5. Exit\n"
     ]
    },
    {
     "name": "stdin",
     "output_type": "stream",
     "text": [
      "Enter your choice (1-5):  5\n"
     ]
    },
    {
     "name": "stdout",
     "output_type": "stream",
     "text": [
      "Exiting...\n",
      "\n",
      "Welcome to the Student Documentation Software!\n",
      "1. Retrive Data \n",
      "2. Analyse the DATA\n",
      "3. Exit\n"
     ]
    },
    {
     "name": "stdin",
     "output_type": "stream",
     "text": [
      "Please select an option:  1\n"
     ]
    }
   ],
   "source": [
    "# run_student_documentation.py\n",
    "\n",
    "import student_documentation\n",
    "import trial\n",
    "\n",
    "def display_menu():\n",
    "    print(\"\\nWelcome to the Student Documentation Software!\")\n",
    "    print(\"1. Retrive Data \")\n",
    "    print(\"2. Analyse the DATA\")\n",
    "    print(\"3. Exit\")\n",
    "\n",
    "def main():\n",
    "    while True:\n",
    "        display_menu()\n",
    "        choice = input(\"Please select an option: \")\n",
    "        \n",
    "        if choice == '1':\n",
    "            student_documentation.main()\n",
    "            \n",
    "        elif choice == '2':\n",
    "            trial.main()\n",
    "            \n",
    "        elif choice == '3':\n",
    "            print(\"Exiting the program. Thank you!\")\n",
    "            break\n",
    "        else:\n",
    "            print(\"Invalid choice. Please try again.\")\n",
    "\n",
    "if __name__ == \"__main__\":\n",
    "    main()\n",
    "\n",
    "\n"
   ]
  },
  {
   "cell_type": "code",
   "execution_count": null,
   "id": "40dea232-bd46-4822-8210-8f3f67f189d5",
   "metadata": {},
   "outputs": [],
   "source": []
  }
 ],
 "metadata": {
  "kernelspec": {
   "display_name": "COM728",
   "language": "python",
   "name": "com728"
  },
  "language_info": {
   "codemirror_mode": {
    "name": "ipython",
    "version": 3
   },
   "file_extension": ".py",
   "mimetype": "text/x-python",
   "name": "python",
   "nbconvert_exporter": "python",
   "pygments_lexer": "ipython3",
   "version": "3.11.9"
  }
 },
 "nbformat": 4,
 "nbformat_minor": 5
}

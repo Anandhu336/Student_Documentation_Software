{
 "cells": [
  {
   "cell_type": "code",
   "execution_count": null,
   "id": "7a2acdc3-f2a0-4558-bfe7-8463e4cf127b",
   "metadata": {},
   "outputs": [
    {
     "name": "stdout",
     "output_type": "stream",
     "text": [
      "\n",
      "Welcome to the Student Documentation Software!\n",
      "1. Retrive Data \n",
      "2. Analyse the DATA\n",
      "3. Exit\n"
     ]
    },
    {
     "name": "stdin",
     "output_type": "stream",
     "text": [
      "Please select an option:  1\n",
      "Enter the CSV file path:  students_data.csv\n"
     ]
    },
    {
     "name": "stdout",
     "output_type": "stream",
     "text": [
      "\n",
      "Which of the following would you like to do? Make your selection from the options shown:\n",
      "1. Look up the data records using the provided Student ID number\n",
      "2. Retrieve data based on Race\n",
      "3. Retrieve data on Parental Involvement and Absences where the number of absences is less than 50 \n",
      "4. Retrive data based on study time \n",
      "5. Exit\n"
     ]
    },
    {
     "name": "stdin",
     "output_type": "stream",
     "text": [
      "Enter your choice:  5\n"
     ]
    },
    {
     "name": "stdout",
     "output_type": "stream",
     "text": [
      "Thank you\n",
      "\n",
      "Welcome to the Student Documentation Software!\n",
      "1. Retrive Data \n",
      "2. Analyse the DATA\n",
      "3. Exit\n"
     ]
    },
    {
     "name": "stdin",
     "output_type": "stream",
     "text": [
      "Please select an option:  1\n",
      "Enter the CSV file path:  students_data.csv\n"
     ]
    },
    {
     "name": "stdout",
     "output_type": "stream",
     "text": [
      "\n",
      "Which of the following would you like to do? Make your selection from the options shown:\n",
      "1. Look up the data records using the provided Student ID number\n",
      "2. Retrieve data based on Race\n",
      "3. Retrieve data on Parental Involvement and Absences where the number of absences is less than 50 \n",
      "4. Retrive data based on study time \n",
      "5. Exit\n"
     ]
    },
    {
     "name": "stdin",
     "output_type": "stream",
     "text": [
      "Enter your choice:  yvh\n"
     ]
    },
    {
     "name": "stdout",
     "output_type": "stream",
     "text": [
      "Invalid choice. Please Choose a task again.\n",
      "\n",
      "Which of the following would you like to do? Make your selection from the options shown:\n",
      "1. Look up the data records using the provided Student ID number\n",
      "2. Retrieve data based on Race\n",
      "3. Retrieve data on Parental Involvement and Absences where the number of absences is less than 50 \n",
      "4. Retrive data based on study time \n",
      "5. Exit\n"
     ]
    },
    {
     "name": "stdin",
     "output_type": "stream",
     "text": [
      "Enter your choice:  1\n",
      "Enter the student ID:  fhgvbj\n"
     ]
    },
    {
     "name": "stdout",
     "output_type": "stream",
     "text": [
      "ID not found.\n",
      "\n",
      "Which of the following would you like to do? Make your selection from the options shown:\n",
      "1. Look up the data records using the provided Student ID number\n",
      "2. Retrieve data based on Race\n",
      "3. Retrieve data on Parental Involvement and Absences where the number of absences is less than 50 \n",
      "4. Retrive data based on study time \n",
      "5. Exit\n"
     ]
    },
    {
     "name": "stdin",
     "output_type": "stream",
     "text": [
      "Enter your choice:  ID-371\n"
     ]
    },
    {
     "name": "stdout",
     "output_type": "stream",
     "text": [
      "Invalid choice. Please Choose a task again.\n",
      "\n",
      "Which of the following would you like to do? Make your selection from the options shown:\n",
      "1. Look up the data records using the provided Student ID number\n",
      "2. Retrieve data based on Race\n",
      "3. Retrieve data on Parental Involvement and Absences where the number of absences is less than 50 \n",
      "4. Retrive data based on study time \n",
      "5. Exit\n"
     ]
    }
   ],
   "source": [
    "# run_student_documentation.py\n",
    "\n",
    "import student_documentation\n",
    "import trial\n",
    "\n",
    "def display_menu():\n",
    "    print(\"\\nWelcome to the Student Documentation Software!\")\n",
    "    print(\"1. Retrive Data \")\n",
    "    print(\"2. Analyse the DATA\")\n",
    "    print(\"3. Exit\")\n",
    "\n",
    "def main():\n",
    "    while True:\n",
    "        display_menu()\n",
    "        choice = input(\"Please select an option: \")\n",
    "        \n",
    "        if choice == '1':\n",
    "            student_documentation.main()\n",
    "            \n",
    "        elif choice == '2':\n",
    "            trial.analyse()\n",
    "            \n",
    "        elif choice == '3':\n",
    "            print(\"Exiting the program. Thank you!\")\n",
    "            break\n",
    "        else:\n",
    "            print(\"Invalid choice. Please try again.\")\n",
    "\n",
    "if __name__ == \"__main__\":\n",
    "    main()\n",
    "\n",
    "\n"
   ]
  },
  {
   "cell_type": "code",
   "execution_count": null,
   "id": "40dea232-bd46-4822-8210-8f3f67f189d5",
   "metadata": {},
   "outputs": [],
   "source": []
  }
 ],
 "metadata": {
  "kernelspec": {
   "display_name": "COM728",
   "language": "python",
   "name": "com728"
  },
  "language_info": {
   "codemirror_mode": {
    "name": "ipython",
    "version": 3
   },
   "file_extension": ".py",
   "mimetype": "text/x-python",
   "name": "python",
   "nbconvert_exporter": "python",
   "pygments_lexer": "ipython3",
   "version": "3.11.9"
  }
 },
 "nbformat": 4,
 "nbformat_minor": 5
}

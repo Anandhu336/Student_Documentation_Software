{
 "cells": [
  {
   "cell_type": "code",
   "execution_count": null,
   "id": "b1d3f49a-8535-43d6-b731-f3275abae941",
   "metadata": {},
   "outputs": [],
   "source": [
    "# run_program.py\n",
    "\n",
    "# Import the main_software module\n",
    "import Main_software_code\n",
    "\n",
    "# Run the Main function from main_software\n",
    "if __name__ == \"__main__\":\n",
    "    Main_software_code.Main()\n",
    "\n"
   ]
  }
 ],
 "metadata": {
  "kernelspec": {
   "display_name": "Python 3 (ipykernel)",
   "language": "python",
   "name": "python3"
  },
  "language_info": {
   "codemirror_mode": {
    "name": "ipython",
    "version": 3
   },
   "file_extension": ".py",
   "mimetype": "text/x-python",
   "name": "python",
   "nbconvert_exporter": "python",
   "pygments_lexer": "ipython3",
   "version": "3.12.4"
  }
 },
 "nbformat": 4,
 "nbformat_minor": 5
}

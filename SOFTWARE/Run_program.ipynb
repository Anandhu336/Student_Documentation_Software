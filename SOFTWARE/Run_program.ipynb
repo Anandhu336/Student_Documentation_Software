{
 "cells": [
  {
   "cell_type": "code",
   "execution_count": null,
   "id": "b1d3f49a-8535-43d6-b731-f3275abae941",
   "metadata": {},
   "outputs": [
    {
     "name": "stdout",
     "output_type": "stream",
     "text": [
      "\n",
      "..........Welcome to the Student Documentation Software!.......\n",
      "\n",
      "\n",
      "\n"
     ]
    },
    {
     "name": "stdin",
     "output_type": "stream",
     "text": [
      "Please enter the file path of the CSV file:  students_data.csv\n"
     ]
    },
    {
     "name": "stdout",
     "output_type": "stream",
     "text": [
      "1. Retrieve Data\n",
      "2. Analyse Data\n",
      "3. Visualization\n",
      "4. Exit\n"
     ]
    },
    {
     "name": "stdin",
     "output_type": "stream",
     "text": [
      "Please select an option:  1\n"
     ]
    },
    {
     "name": "stdout",
     "output_type": "stream",
     "text": [
      "\n",
      "Which of the following would you like to do? Make your selection from the options shown:\n",
      "1. Look up the data records using the provided Student ID number\n",
      "2. Retrieve data based on Race\n",
      "3. Retrieve data on Parental Involvement and Absences where the number of absences is less than 50\n",
      "4. Retrieve data based on study time\n",
      "5. Exit\n"
     ]
    }
   ],
   "source": [
    "# run_program.py\n",
    "\n",
    "# Import the main_software module\n",
    "import Main_software_code\n",
    "\n",
    "# Run the Main function from main_software\n",
    "if __name__ == \"__main__\":\n",
    "    Main_software_code.Main()\n",
    "\n"
   ]
  }
 ],
 "metadata": {
  "kernelspec": {
   "display_name": "Python 3 (ipykernel)",
   "language": "python",
   "name": "python3"
  },
  "language_info": {
   "codemirror_mode": {
    "name": "ipython",
    "version": 3
   },
   "file_extension": ".py",
   "mimetype": "text/x-python",
   "name": "python",
   "nbconvert_exporter": "python",
   "pygments_lexer": "ipython3",
   "version": "3.12.4"
  }
 },
 "nbformat": 4,
 "nbformat_minor": 5
}

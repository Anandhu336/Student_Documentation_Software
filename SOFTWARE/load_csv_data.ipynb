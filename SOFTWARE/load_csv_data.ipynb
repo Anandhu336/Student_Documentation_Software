{
 "cells": [
  {
   "cell_type": "code",
   "execution_count": null,
   "id": "1ce78994-2da2-4858-b5d6-a862714ffa75",
   "metadata": {},
   "outputs": [],
   "source": [
    "import csv\n",
    "def load_csv_data(file_path):\n",
    "    try:\n",
    "        with open(file_path, mode='r') as file:\n",
    "            reader = csv.reader(file)\n",
    "            data = list(reader)\n",
    "        \n",
    "        return data\n",
    "    except FileNotFoundError:\n",
    "        print(\"Error: CSV file not found..Please Restart the software!!\")\n",
    "        return None\n",
    "    except Exception as e:\n",
    "        print(f\"Error: {e}\")\n",
    "        return None\n"
   ]
  }
 ],
 "metadata": {
  "kernelspec": {
   "display_name": "Python 3 (ipykernel)",
   "language": "python",
   "name": "python3"
  },
  "language_info": {
   "codemirror_mode": {
    "name": "ipython",
    "version": 3
   },
   "file_extension": ".py",
   "mimetype": "text/x-python",
   "name": "python",
   "nbconvert_exporter": "python",
   "pygments_lexer": "ipython3",
   "version": "3.12.4"
  }
 },
 "nbformat": 4,
 "nbformat_minor": 5
}

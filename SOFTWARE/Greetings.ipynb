{
 "cells": [
  {
   "cell_type": "code",
   "execution_count": null,
   "id": "c60442b1-0385-4208-9565-f51d26712727",
   "metadata": {},
   "outputs": [],
   "source": [
    "#function to generate greetings \n",
    "def generate_student_documentation_greeting():\n",
    "    \"\"\"\n",
    "    Generates a greeting for the student documentation software.\n",
    "    \"\"\"\n",
    "    greeting = \"\"\"\n",
    "............Welcome to the Student Documentation Software!.......\n",
    "\n",
    "\"\"\"\n",
    "    return greeting"
   ]
  }
 ],
 "metadata": {
  "kernelspec": {
   "display_name": "COM728",
   "language": "python",
   "name": "com728"
  },
  "language_info": {
   "codemirror_mode": {
    "name": "ipython",
    "version": 3
   },
   "file_extension": ".py",
   "mimetype": "text/x-python",
   "name": "python",
   "nbconvert_exporter": "python",
   "pygments_lexer": "ipython3",
   "version": "3.11.9"
  }
 },
 "nbformat": 4,
 "nbformat_minor": 5
}

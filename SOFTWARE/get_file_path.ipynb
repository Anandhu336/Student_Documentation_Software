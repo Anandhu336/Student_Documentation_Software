{
 "cells": [
  {
   "cell_type": "code",
   "execution_count": null,
   "id": "3edfff51-f5a5-47c0-88c7-17a11efe788a",
   "metadata": {},
   "outputs": [],
   "source": [
    "#function to ge the file path or filename from the user \n",
    "def get_file():\n",
    "    file_path = input(\"Enter the CSV file path: \")\n",
    "    return file_path"
   ]
  }
 ],
 "metadata": {
  "kernelspec": {
   "display_name": "COM728",
   "language": "python",
   "name": "com728"
  },
  "language_info": {
   "codemirror_mode": {
    "name": "ipython",
    "version": 3
   },
   "file_extension": ".py",
   "mimetype": "text/x-python",
   "name": "python",
   "nbconvert_exporter": "python",
   "pygments_lexer": "ipython3",
   "version": "3.11.9"
  }
 },
 "nbformat": 4,
 "nbformat_minor": 5
}

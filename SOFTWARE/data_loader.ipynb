{
 "cells": [
  {
   "cell_type": "code",
   "execution_count": null,
   "id": "c1902bfc-22df-4a8a-ab31-0557cf41ca03",
   "metadata": {},
   "outputs": [],
   "source": [
    "# Import the csv module for reading CSV files\n",
    "import csv\n",
    "#import the pandas module\n",
    "import pandas as pd\n",
    "#function to ge filepath from the user \n",
    "def get_file_path():\n",
    "    return input(\"Please enter the file path of the CSV file: \")\n",
    "#function to load csv file using csv module \n",
    "def load_csv_data(file_path):\n",
    "    try:\n",
    "        with open(file_path, mode='r', encoding='utf-8') as file:\n",
    "            #create a csv adder object \n",
    "            reader = csv.reader(file)\n",
    "            #convert the reader object into list of rows \n",
    "            data = list(reader)\n",
    "        #return the list of rows \n",
    "        return data\n",
    "    except FileNotFoundError:\n",
    "        #handle the case if file not found \n",
    "        print(\"Error: CSV file not found. Please restart the software!\")\n",
    "        return None\n",
    "    except Exception as e:\n",
    "        #handle any other exceptions that may occur \n",
    "        print(f\"Error: {e}\")\n",
    "        return None\n",
    "#function to load data into a pandas DataFrame\n",
    "def load_data_pandas(file_path):\n",
    "    try:\n",
    "        ## Read the CSV file into a pandas DataFrame\n",
    "        df_data = pd.read_csv(file_path, header=0, encoding='utf-8')\n",
    "        # Convert specific columns to lowercase\n",
    "        df_data['Race'] = df_data['Race'].str.lower()\n",
    "        df_data['Parental_involvement'] = df_data['Parental_involvement'].str.lower()\n",
    "        df_data['Mother_education_level '] = df_data['Mother_education_level '].str.lower()\n",
    "        \n",
    "         \n",
    "        #return the data frame \n",
    "        return df_data\n",
    "    except Exception as e:\n",
    "        print(f\"Error loading data: {e}\")\n",
    "        return None"
   ]
  }
 ],
 "metadata": {
  "kernelspec": {
   "display_name": "COM728",
   "language": "python",
   "name": "com728"
  },
  "language_info": {
   "codemirror_mode": {
    "name": "ipython",
    "version": 3
   },
   "file_extension": ".py",
   "mimetype": "text/x-python",
   "name": "python",
   "nbconvert_exporter": "python",
   "pygments_lexer": "ipython3",
   "version": "3.11.9"
  }
 },
 "nbformat": 4,
 "nbformat_minor": 5
}

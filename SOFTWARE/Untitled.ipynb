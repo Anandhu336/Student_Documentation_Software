{
 "cells": [
  {
   "cell_type": "code",
   "execution_count": 1,
   "id": "12248a30-0fd4-4fc8-a04c-c02452e42ddc",
   "metadata": {},
   "outputs": [
    {
     "name": "stdout",
     "output_type": "stream",
     "text": [
      "Choose the option:\n",
      "1. Average Math Score for Asian students \n",
      "2. Average Math Score for White students \n",
      "3. Average Math Score for Hispanic students \n",
      "4. Average Math Score for African American \n",
      "5. Average Math Score for Other students \n"
     ]
    },
    {
     "name": "stdin",
     "output_type": "stream",
     "text": [
      "Enter your choice (1, 2, 3, 4, or 5):  5\n"
     ]
    },
    {
     "name": "stdout",
     "output_type": "stream",
     "text": [
      "The average math score for Other students with attendance rate above 80% is: 50.77\n"
     ]
    }
   ],
   "source": [
    "import pandas as pd\n",
    "\n",
    "\n",
    "df = pd.read_csv('students_data.csv')\n",
    "\n",
    "\n",
    "def avg_math_score_by_race(race):\n",
    "    new_df = df[(df['Race'] == race) & (df['Attendance_rate'] > 80)]\n",
    "    if new_df.empty:\n",
    "        return None\n",
    "    avg_math_score = new_df['Math_score'].mean()\n",
    "    return avg_math_score\n",
    "\n",
    "\n",
    "def main():\n",
    "    print(\"Choose the option:\")\n",
    "    print(\"1. Average Math Score for Asian students \")\n",
    "    print(\"2. Average Math Score for White students \")\n",
    "    print(\"3. Average Math Score for Hispanic students \")\n",
    "    print(\"4. Average Math Score for African American \")\n",
    "    print(\"5. Average Math Score for Other students \")\n",
    "    \n",
    "    choice = input(\"Enter your choice (1, 2, 3, 4, or 5): \")\n",
    "    \n",
    "    race_dict = {\n",
    "        '1': 'Asian',\n",
    "        '2': 'White',\n",
    "        '3': 'Hispanic',\n",
    "        '4': 'African American',\n",
    "        '5': 'Other'\n",
    "    }\n",
    "    \n",
    "    if choice in race_dict:\n",
    "        race = race_dict[choice]\n",
    "        average_score = avg_math_score_by_race(race)\n",
    "        if average_score is None:\n",
    "            print(f\"No {race} students with attendance rate above 80% were found.\")\n",
    "        else:\n",
    "            print(f\"The average math score for {race} students with attendance rate above 80% is: {average_score:.2f}\")\n",
    "    else:\n",
    "        print(\"Invalid choice. Please enter 1, 2, 3, 4, or 5.\")\n",
    "\n",
    "if __name__ == \"__main__\":\n",
    "    main()"
   ]
  },
  {
   "cell_type": "code",
   "execution_count": 2,
   "id": "e2c6c563-b19f-4100-aef7-654e26e3ff47",
   "metadata": {},
   "outputs": [
    {
     "name": "stdin",
     "output_type": "stream",
     "text": [
      "Enter the race (e.g., Asian, White, etc.):  Asian\n"
     ]
    },
    {
     "name": "stdout",
     "output_type": "stream",
     "text": [
      "No students of race Asian with attendance rate above 80% were found.\n"
     ]
    }
   ],
   "source": [
    "import pandas as pd\n",
    "\n",
    "df = pd.read_csv('students_data.csv')\n",
    "def avg_math_score_by_race(race):\n",
    "    new_df = df[(df['Race'] == race) & (df['Attendance_rate'] > 80)]\n",
    "    avg_math_score = new_df['Math_score'].mean()\n",
    "    return avg_math_score\n",
    "\n",
    "\n",
    "race = input(\"Enter the race (e.g., Asian, White, etc.): \")\n",
    "\n",
    "\n",
    "average_score = avg_math_score_by_race(race)\n",
    "\n",
    "\n",
    "if average_score :\n",
    "\n",
    "    print(f\"No students of race {race} with attendance rate above 80% were found.\")\n",
    "else:\n",
    "    print(f\"The average math score for {race} students with attendance rate above 80% is: {average_score:.2f}\")"
   ]
  }
 ],
 "metadata": {
  "kernelspec": {
   "display_name": "Python 3 (ipykernel)",
   "language": "python",
   "name": "python3"
  },
  "language_info": {
   "codemirror_mode": {
    "name": "ipython",
    "version": 3
   },
   "file_extension": ".py",
   "mimetype": "text/x-python",
   "name": "python",
   "nbconvert_exporter": "python",
   "pygments_lexer": "ipython3",
   "version": "3.12.4"
  }
 },
 "nbformat": 4,
 "nbformat_minor": 5
}
